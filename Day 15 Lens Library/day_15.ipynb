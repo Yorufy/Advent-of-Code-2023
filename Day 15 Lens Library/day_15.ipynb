{
 "cells": [
  {
   "cell_type": "markdown",
   "metadata": {},
   "source": [
    "## Day 15 Lens Library\n",
    "\n",
    "### Part 1\n",
    "\n",
    "'nuff said."
   ]
  },
  {
   "cell_type": "code",
   "execution_count": 7,
   "metadata": {},
   "outputs": [
    {
     "data": {
      "text/plain": [
       "522547"
      ]
     },
     "execution_count": 7,
     "metadata": {},
     "output_type": "execute_result"
    }
   ],
   "source": [
    "# Part 1\n",
    "\n",
    "def hash(s: str):\n",
    "\n",
    "    ans = 0\n",
    "\n",
    "    for char in s:\n",
    "\n",
    "        ans += ord(char)\n",
    "        ans *= 17\n",
    "        ans %= 256\n",
    "\n",
    "    return ans\n",
    "\n",
    "file = open('day_15_input.txt').read().split(',')\n",
    "\n",
    "ans = 0\n",
    "for line in file:\n",
    "    ans += hash(line)\n",
    "\n",
    "ans"
   ]
  },
  {
   "cell_type": "markdown",
   "metadata": {},
   "source": [
    "### Part 2\n",
    "\n",
    "'nuff said."
   ]
  },
  {
   "cell_type": "code",
   "execution_count": 52,
   "metadata": {},
   "outputs": [
    {
     "name": "stdout",
     "output_type": "stream",
     "text": [
      "{0: [], 1: ['bhg 8'], 2: [], 3: ['vlq 4'], 4: [], 5: [], 6: [], 7: [], 8: ['zn 8'], 9: [], 10: ['lzd 1', 'kls 8'], 11: [], 12: [], 13: [], 14: [], 15: ['nqp 4'], 16: ['dl 3', 'jmnk 7', 'sm 5'], 17: [], 18: ['jvr 7', 'rfz 3'], 19: ['qb 2'], 20: ['lpx 3'], 21: ['tggs 9'], 22: ['jrz 5'], 23: ['cpt 5', 'brs 3'], 24: ['fjh 1', 'pfb 5', 'bjff 3', 'll 3'], 25: [], 26: ['lphv 8'], 27: [], 28: ['ht 5'], 29: [], 30: ['dhr 4', 'mpqp 2'], 31: ['dgt 1', 'hgllzn 5', 'vgshgp 4'], 32: [], 33: ['svh 2'], 34: [], 35: ['qr 3', 'bq 8', 'zfvgf 6'], 36: [], 37: [], 38: [], 39: ['mz 5', 'hgx 1'], 40: ['xzrd 9'], 41: ['jxrrs 3', 'cmlnnq 9'], 42: [], 43: [], 44: ['hrr 5'], 45: [], 46: ['vx 8'], 47: ['jkz 9'], 48: ['fj 2'], 49: ['khn 4'], 50: ['tnms 9'], 51: [], 52: [], 53: [], 54: ['kdg 2', 'jtx 6'], 55: ['bbxk 5', 'zsj 1'], 56: ['sqd 2', 'mghbj 8'], 57: [], 58: [], 59: ['zq 9'], 60: [], 61: ['jc 3', 'gdctzq 3'], 62: ['hv 3'], 63: ['hg 1'], 64: ['zzl 4'], 65: ['lgn 8', 'fk 7'], 66: [], 67: [], 68: ['cq 3'], 69: ['mbf 7'], 70: ['bd 8', 'ztx 8'], 71: [], 72: [], 73: ['jtrdrs 2', 'nk 9', 'qnbh 2'], 74: ['frjh 1'], 75: [], 76: [], 77: ['cnl 3'], 78: ['hrt 4', 'jd 1'], 79: [], 80: ['gdpkz 4', 'mvm 6'], 81: [], 82: ['fl 2'], 83: [], 84: ['svk 5', 'tqgx 9', 'dp 8'], 85: ['gvtd 4'], 86: ['rd 5', 'xkc 9', 'cc 8'], 87: [], 88: ['qvq 4', 'lbj 8'], 89: ['fnztg 6'], 90: [], 91: ['mn 9', 'mnmc 7'], 92: ['dbpf 2', 'kmsq 2'], 93: ['mpvj 5', 'kr 1', 'ghpdj 1'], 94: [], 95: ['kddl 5'], 96: ['jfvnl 2', 'jnh 2', 'nfl 1', 'xh 1'], 97: [], 98: ['pcdk 1'], 99: ['fm 2'], 100: ['vbl 5', 'tp 6'], 101: ['ttm 4'], 102: ['db 9', 'svfst 7'], 103: ['cd 5'], 104: ['bf 5'], 105: ['zmxz 3'], 106: [], 107: ['pbml 3'], 108: [], 109: ['dmnfh 3', 'lq 5'], 110: [], 111: [], 112: [], 113: [], 114: ['ckt 4', 'nnxjbr 8'], 115: ['gl 5'], 116: [], 117: [], 118: [], 119: ['nqxp 5', 'plk 4'], 120: ['zvh 4', 'sklxf 1'], 121: ['hgscd 8'], 122: ['rsbgl 9', 'pj 3'], 123: [], 124: ['nn 3'], 125: [], 126: ['dbvvl 1', 'mkv 3'], 127: ['kt 2', 'lc 5'], 128: ['bhhn 3', 'jv 5'], 129: ['jg 7'], 130: ['djt 9', 'ffv 1'], 131: ['nvdk 7'], 132: ['gm 7', 'lsskds 4'], 133: ['fsl 6'], 134: ['bzj 4', 'ljhrv 4'], 135: [], 136: ['vtzd 7'], 137: ['qx 5'], 138: ['trd 7', 'pz 6'], 139: [], 140: ['dqg 5'], 141: [], 142: ['mq 7'], 143: ['mb 6', 'qsk 2'], 144: ['ld 8'], 145: ['kf 1'], 146: ['fvv 3'], 147: ['xk 4', 'szv 5'], 148: ['qspp 1', 'hl 7'], 149: ['ntvm 7'], 150: ['nnnrz 6'], 151: ['hbqxt 6', 'nfbdm 5'], 152: ['kgv 1'], 153: ['xkv 2'], 154: ['cfq 9', 'rh 3'], 155: ['bgr 7', 'gtxdt 7'], 156: ['drf 2'], 157: [], 158: ['np 2', 'pntl 7'], 159: ['xjcz 6', 'zcb 4', 'jrs 5'], 160: ['mc 2'], 161: [], 162: [], 163: ['znk 8', 'dlc 1', 'gff 4'], 164: [], 165: ['skg 2', 'djg 8', 'sjx 8'], 166: ['zkq 2'], 167: ['vqsm 1', 'fq 6'], 168: ['dgm 4'], 169: [], 170: ['rx 1'], 171: ['dtc 9'], 172: ['jvl 5'], 173: ['ctf 8'], 174: ['kxpk 1'], 175: ['jdq 5'], 176: [], 177: [], 178: ['ktcxx 7'], 179: ['hsx 5'], 180: ['jj 8', 'rdnp 4'], 181: ['xm 6'], 182: [], 183: ['rngp 8'], 184: ['zzd 9', 'nvbr 7'], 185: ['blbqx 6'], 186: ['tf 2'], 187: ['sh 8'], 188: ['mlzrsd 2'], 189: ['tbftpm 2'], 190: ['ttgbm 1', 'lvrj 7'], 191: [], 192: [], 193: ['kpv 6'], 194: ['gvctn 6'], 195: ['kx 4', 'pzdbc 9'], 196: [], 197: ['hcz 4'], 198: [], 199: ['hbm 5', 'sjz 5', 'txk 4'], 200: ['jlr 2'], 201: ['nrmxt 3'], 202: ['tv 6'], 203: [], 204: [], 205: ['vnfs 1', 'cj 5', 'trst 2'], 206: [], 207: [], 208: ['lpt 2'], 209: ['rsl 3'], 210: ['kqf 6'], 211: [], 212: ['hff 9'], 213: ['bqb 1'], 214: [], 215: ['hcl 5', 'ngb 6'], 216: ['gdm 8', 'hp 3'], 217: ['vs 4'], 218: ['vd 1', 'ft 8'], 219: ['kjlxvl 4'], 220: [], 221: [], 222: ['jcsvx 2'], 223: [], 224: ['dbz 3'], 225: [], 226: ['pvth 4'], 227: [], 228: [], 229: ['rsbn 9'], 230: ['vvz 6', 'zl 7'], 231: [], 232: [], 233: ['zmb 4'], 234: ['nftb 4'], 235: ['fmzfnz 7'], 236: ['ff 5', 'zjh 6', 'jzh 3'], 237: [], 238: ['sdts 5'], 239: ['rgv 5', 'tcx 5'], 240: [], 241: [], 242: ['nsqp 7'], 243: [], 244: ['nf 4'], 245: [], 246: [], 247: ['tcnbp 5', 'zm 3'], 248: [], 249: ['rgvz 3'], 250: ['xb 3'], 251: ['rlm 9'], 252: ['fv 1', 'grc 4', 'jlf 7', 'xrzx 5'], 253: ['tvc 5', 'shmcr 6'], 254: ['mdm 7', 'dz 6'], 255: ['chd 6', 'dk 9']}\n"
     ]
    },
    {
     "data": {
      "text/plain": [
       "229271"
      ]
     },
     "execution_count": 52,
     "metadata": {},
     "output_type": "execute_result"
    }
   ],
   "source": [
    "# Part 2\n",
    "\n",
    "def hash(s: str) -> int:\n",
    "\n",
    "    ans = 0\n",
    "\n",
    "    for char in s:\n",
    "\n",
    "        ans += ord(char)\n",
    "        ans *= 17\n",
    "        ans %= 256\n",
    "\n",
    "    return ans\n",
    "\n",
    "boxes = {_:[] for _ in range(0, 256)}\n",
    "\n",
    "def hashmap(s: str):\n",
    "\n",
    "    if '-' in s:\n",
    "        \n",
    "        label = s[:s.index('-')]\n",
    "        h = hash(label)\n",
    "        \n",
    "        for i in range(len(boxes[h])):\n",
    "            _label, _length = boxes[h][i].split(' ')\n",
    "            if label == _label:\n",
    "                boxes[h] = boxes[h][:i] + boxes[h][i+1:]\n",
    "                break\n",
    "\n",
    "    elif '=' in s:\n",
    "\n",
    "        label, length = s.split('=')\n",
    "        h = hash(label)\n",
    "\n",
    "        flag = False\n",
    "\n",
    "        for i in range(len(boxes[h])):\n",
    "            _label, _length = boxes[h][i].split(' ')\n",
    "            if label == _label:\n",
    "                boxes[h][i] = f'{label} {length}'\n",
    "                flag = True\n",
    "                break\n",
    "\n",
    "        if not flag:\n",
    "            boxes[h] += [f'{label} {length}']\n",
    "        \n",
    "file = open('day_15_input.txt').read().split(',')\n",
    "\n",
    "for line in file:\n",
    "    hashmap(line)\n",
    "\n",
    "#Focusing power\n",
    "\n",
    "power = 0\n",
    "\n",
    "print(boxes)\n",
    "\n",
    "for boxnum in boxes.keys():\n",
    "    for i, lens in enumerate(boxes[boxnum]):\n",
    "        label, length = lens.split(' ')\n",
    "        power += ((boxnum+1)*(i+1)*int(length))\n",
    "\n",
    "power #not 226681"
   ]
  }
 ],
 "metadata": {
  "kernelspec": {
   "display_name": "Python 3",
   "language": "python",
   "name": "python3"
  },
  "language_info": {
   "codemirror_mode": {
    "name": "ipython",
    "version": 3
   },
   "file_extension": ".py",
   "mimetype": "text/x-python",
   "name": "python",
   "nbconvert_exporter": "python",
   "pygments_lexer": "ipython3",
   "version": "3.11.6"
  }
 },
 "nbformat": 4,
 "nbformat_minor": 2
}
