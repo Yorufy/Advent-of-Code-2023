{
 "cells": [
  {
   "cell_type": "code",
   "execution_count": 21,
   "metadata": {},
   "outputs": [
    {
     "name": "stdout",
     "output_type": "stream",
     "text": [
      "34\n",
      "8\n",
      "69\n",
      "7\n"
     ]
    }
   ],
   "source": [
    "# Part A\n",
    "\n",
    "file = open('day_6_part_1.txt', 'r').readlines()\n",
    "times = [51,69,98,78]\n",
    "distances = [377,1171,1224,1505]\n",
    "\n",
    "for i in range(len(times)):\n",
    "    time = times[i]\n",
    "    record = distances[i]\n",
    "    speed = 0\n",
    "    count = 0\n",
    "    for j in range(time+1): #Hold it for j seconds\n",
    "        speed = j\n",
    "        dist = (time - j) * speed\n",
    "        if dist > record:\n",
    "            count += 1\n",
    "    print(count)\n",
    "\n",
    "#Product of all the results is 131376, which is the part 1 answer."
   ]
  },
  {
   "cell_type": "code",
   "execution_count": 24,
   "metadata": {},
   "outputs": [
    {
     "name": "stdout",
     "output_type": "stream",
     "text": [
      "34123437\n"
     ]
    }
   ],
   "source": [
    "# Part B\n",
    "\n",
    "file = open('day_6_part_1.txt', 'r').readlines()\n",
    "times = [51699878]\n",
    "distances = [377117112241505]\n",
    "\n",
    "for i in range(len(times)):\n",
    "    time = times[i]\n",
    "    record = distances[i]\n",
    "    speed = 0\n",
    "    count = 0\n",
    "    for j in range(time+1): #Hold it for j seconds\n",
    "        speed = j\n",
    "        dist = (time - j) * speed\n",
    "        if dist > record:\n",
    "            count += 1\n",
    "    print(count)\n",
    "\n",
    "#34123437"
   ]
  }
 ],
 "metadata": {
  "kernelspec": {
   "display_name": "Python 3",
   "language": "python",
   "name": "python3"
  },
  "language_info": {
   "codemirror_mode": {
    "name": "ipython",
    "version": 3
   },
   "file_extension": ".py",
   "mimetype": "text/x-python",
   "name": "python",
   "nbconvert_exporter": "python",
   "pygments_lexer": "ipython3",
   "version": "3.12.0"
  }
 },
 "nbformat": 4,
 "nbformat_minor": 2
}
