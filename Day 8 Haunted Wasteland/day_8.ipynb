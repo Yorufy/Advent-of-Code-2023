{
 "cells": [
  {
   "cell_type": "code",
   "execution_count": null,
   "metadata": {},
   "outputs": [],
   "source": [
    "# Part A\n",
    "\n",
    "from collections import deque\n",
    "\n",
    "file = open('day_8_test.txt', 'r')\n",
    "\n",
    "lines = file.readlines()\n",
    "\n",
    "instructions = lines[0].strip()\n",
    "\n",
    "lefts = {}\n",
    "rights = {}\n",
    "\n",
    "for line in lines[2:]:\n",
    "    src, others = line.strip().split(' = ')\n",
    "    left, right = others.strip('()').split(' ')\n",
    "    left = left.strip(',')\n",
    "    lefts[src] = left\n",
    "    rights[src] = right\n",
    "\n",
    "q = deque(['AAA'])\n",
    "visited = set()\n",
    "instruction_num = 0\n",
    "moves = 0\n",
    "\n",
    "while q:\n",
    "\n",
    "    curr = q.popleft()\n",
    "    # print(curr, q)\n",
    "\n",
    "    if curr == 'ZZZ':\n",
    "        break\n",
    "\n",
    "    match instructions[instruction_num]:\n",
    "        case 'L':\n",
    "            q.append(lefts[curr])\n",
    "        case 'R':\n",
    "            q.append(rights[curr])\n",
    "\n",
    "    instruction_num = (instruction_num + 1) % len(instructions)\n",
    "    moves += 1\n",
    "\n",
    "print(moves) #19099"
   ]
  },
  {
   "cell_type": "code",
   "execution_count": 38,
   "metadata": {},
   "outputs": [
    {
     "name": "stdout",
     "output_type": "stream",
     "text": [
      "19099\n"
     ]
    }
   ],
   "source": [
    "# Part B is just modified Part A\n",
    "\n",
    "from collections import deque\n",
    "\n",
    "file = open('day_8_part_1.txt', 'r')\n",
    "\n",
    "lines = file.readlines()\n",
    "\n",
    "instructions = lines[0].strip()\n",
    "\n",
    "lefts = {}\n",
    "rights = {}\n",
    "\n",
    "for line in lines[2:]:\n",
    "    src, others = line.strip().split(' = ')\n",
    "    left, right = others.strip('()').split(' ')\n",
    "    left = left.strip(',')\n",
    "    lefts[src] = left\n",
    "    rights[src] = right\n",
    "\n",
    "q = deque(['AAA'])\n",
    "visited = set()\n",
    "instruction_num = 0\n",
    "moves = 0\n",
    "\n",
    "while q:\n",
    "\n",
    "    curr = q.popleft()\n",
    "    # print(curr, q)\n",
    "\n",
    "    if curr[-1] == 'Z':\n",
    "        break\n",
    "\n",
    "    match instructions[instruction_num]:\n",
    "        case 'L':\n",
    "            q.append(lefts[curr])\n",
    "        case 'R':\n",
    "            q.append(rights[curr])\n",
    "\n",
    "    instruction_num = (instruction_num + 1) % len(instructions)\n",
    "    moves += 1\n",
    "\n",
    "print(moves) #19099"
   ]
  },
  {
   "cell_type": "code",
   "execution_count": 44,
   "metadata": {},
   "outputs": [
    {
     "data": {
      "text/plain": [
       "17099847107071"
      ]
     },
     "execution_count": 44,
     "metadata": {},
     "output_type": "execute_result"
    }
   ],
   "source": [
    "sources = ['HVA', 'LBA', 'FXA', 'GHA', 'PSA', 'AAA']\n",
    "\n",
    "lst = [15871, 16409, 21251, 18023, 12643, 19099] \n",
    "\n",
    "from math import lcm\n",
    "\n",
    "lcm(240842917001, 19099) #17099847107071"
   ]
  },
  {
   "cell_type": "code",
   "execution_count": 33,
   "metadata": {},
   "outputs": [
    {
     "data": {
      "text/plain": [
       "['HVA', 'LBA', 'FXA', 'GHA', 'PSA', 'AAA']"
      ]
     },
     "execution_count": 33,
     "metadata": {},
     "output_type": "execute_result"
    }
   ],
   "source": [
    "sources"
   ]
  }
 ],
 "metadata": {
  "kernelspec": {
   "display_name": "Python 3",
   "language": "python",
   "name": "python3"
  },
  "language_info": {
   "codemirror_mode": {
    "name": "ipython",
    "version": 3
   },
   "file_extension": ".py",
   "mimetype": "text/x-python",
   "name": "python",
   "nbconvert_exporter": "python",
   "pygments_lexer": "ipython3",
   "version": "3.12.0"
  }
 },
 "nbformat": 4,
 "nbformat_minor": 2
}
