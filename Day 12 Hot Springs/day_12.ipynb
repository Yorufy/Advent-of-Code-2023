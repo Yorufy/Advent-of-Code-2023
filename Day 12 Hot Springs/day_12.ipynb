{
 "cells": [
  {
   "cell_type": "code",
   "execution_count": 22,
   "metadata": {},
   "outputs": [
    {
     "data": {
      "text/plain": [
       "7674"
      ]
     },
     "execution_count": 22,
     "metadata": {},
     "output_type": "execute_result"
    }
   ],
   "source": [
    "# Part 1\n",
    "\n",
    "file = open('day_12_part_1.txt', 'r')\n",
    "lines = file.readlines()\n",
    "\n",
    "def count_arrangements(record, nums) -> int:\n",
    "    \n",
    "    ans = 0\n",
    "\n",
    "    # Empty configuration is only valid if there are no more expected blocks of '#' in nums.\n",
    "    if not record:\n",
    "        return 1 if not nums else 0\n",
    "\n",
    "    # If there are no more upcoming blocks of '#' left in nums but we still have '#' in the record, then we have a contradiction.\n",
    "    if not nums:\n",
    "        if '#' in record:\n",
    "            return 0\n",
    "        else:\n",
    "            return 1\n",
    "\n",
    "    # Case 1: Treat the '?' as though it were a '.'\n",
    "    if record[0] in '.?':\n",
    "        ans += count_arrangements(record[1:], nums)\n",
    "    \n",
    "    # Case 2: Treat the '?' as though it were a '#', creating a 'block' of permutable '?'s\n",
    "    # This is valid if and only if the following conditions are true:\n",
    "    #   - There must be a number of damaged springs in nums to be fulfilled that must be <= the length of our record.\n",
    "    #   - There cannot be an operational spring within the first nums[0] springs.\n",
    "    #   - The next spring after the block must be operational.\n",
    "    #       - No springs left\n",
    "    #       - Springs afterwards: next spring must be not be damaged.\n",
    "    if record[0] in '#?':\n",
    "        if nums[0] <= len(record) and '.' not in record[:nums[0]] and (nums[0] == len(record) or record[nums[0]] != '#'):\n",
    "            # Start a valid block\n",
    "            ans += count_arrangements(record[nums[0]+1:], nums[1:])\n",
    "\n",
    "    return ans\n",
    "\n",
    "ans = 0\n",
    "for line in lines:\n",
    "    rec, nums = line.strip().split()\n",
    "    nums = list(map(int, nums.split(',')))\n",
    "    ans += count_arrangements(rec, nums)\n",
    "\n",
    "ans #7674"
   ]
  },
  {
   "cell_type": "code",
   "execution_count": null,
   "metadata": {},
   "outputs": [],
   "source": [
    "# Part 2\n",
    "\n",
    "from functools import lru_cache\n",
    "\n",
    "file = open('day_12_part_1.txt', 'r')\n",
    "lines = file.readlines()\n",
    "\n",
    "@lru_cache\n",
    "def count_arrangements(record, nums) -> int:\n",
    "    \n",
    "    ans = 0\n",
    "\n",
    "    # Empty configuration is only valid if there are no more expected blocks of '#' in nums.\n",
    "    if not record:\n",
    "        return 1 if not nums else 0\n",
    "\n",
    "    # If there are no more upcoming blocks of '#' left in nums but we still have '#' in the record, then we have a contradiction.\n",
    "    if not nums:\n",
    "        if '#' in record:\n",
    "            return 0\n",
    "        else:\n",
    "            return 1\n",
    "\n",
    "    # Case 1: Treat the '?' as though it were a '.'\n",
    "    if record[0] in '.?':\n",
    "        ans += count_arrangements(record[1:], nums)\n",
    "    \n",
    "    # Case 2: Treat the '?' as though it were a '#', creating a 'block' of permutable '?'s\n",
    "    # This is valid if and only if the following conditions are true:\n",
    "    #   - There must be a number of damaged springs in nums to be fulfilled that must be <= the length of our record.\n",
    "    #   - There cannot be an operational spring within the first nums[0] springs.\n",
    "    #   - The next spring after the block must be operational.\n",
    "    #       - No springs left\n",
    "    #       - Springs afterwards: next spring must be not be damaged.\n",
    "    if record[0] in '#?':\n",
    "        if nums[0] <= len(record) and '.' not in record[:nums[0]] and (nums[0] == len(record) or record[nums[0]] != '#'):\n",
    "            # Start a valid block\n",
    "            ans += count_arrangements(record[nums[0]+1:], nums[1:])\n",
    "\n",
    "    return ans\n",
    "\n",
    "ans = 0\n",
    "for line in lines:\n",
    "    rec, nums = line.strip().split()\n",
    "    nums = tuple(map(int, nums.split(',')))\n",
    "\n",
    "    rec = '?'.join([rec]*5)\n",
    "    nums *= 5\n",
    "    ans += count_arrangements(rec, nums)\n",
    "ans #4443895258186"
   ]
  }
 ],
 "metadata": {
  "kernelspec": {
   "display_name": "Python 3",
   "language": "python",
   "name": "python3"
  },
  "language_info": {
   "codemirror_mode": {
    "name": "ipython",
    "version": 3
   },
   "file_extension": ".py",
   "mimetype": "text/x-python",
   "name": "python",
   "nbconvert_exporter": "python",
   "pygments_lexer": "ipython3",
   "version": "3.11.6"
  }
 },
 "nbformat": 4,
 "nbformat_minor": 2
}
