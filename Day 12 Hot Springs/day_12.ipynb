{
 "cells": [
  {
   "cell_type": "code",
   "execution_count": 10,
   "metadata": {},
   "outputs": [
    {
     "ename": "KeyboardInterrupt",
     "evalue": "",
     "output_type": "error",
     "traceback": [
      "\u001b[1;31m---------------------------------------------------------------------------\u001b[0m",
      "\u001b[1;31mKeyboardInterrupt\u001b[0m                         Traceback (most recent call last)",
      "Cell \u001b[1;32mIn[10], line 43\u001b[0m\n\u001b[0;32m     41\u001b[0m     rec, nums \u001b[38;5;241m=\u001b[39m line\u001b[38;5;241m.\u001b[39mstrip()\u001b[38;5;241m.\u001b[39msplit()\n\u001b[0;32m     42\u001b[0m     nums \u001b[38;5;241m=\u001b[39m \u001b[38;5;28mlist\u001b[39m(\u001b[38;5;28mmap\u001b[39m(\u001b[38;5;28mint\u001b[39m, nums\u001b[38;5;241m.\u001b[39msplit(\u001b[38;5;124m'\u001b[39m\u001b[38;5;124m,\u001b[39m\u001b[38;5;124m'\u001b[39m)))\n\u001b[1;32m---> 43\u001b[0m     ans \u001b[38;5;241m+\u001b[39m\u001b[38;5;241m=\u001b[39m \u001b[43mcount_arrangements\u001b[49m\u001b[43m(\u001b[49m\u001b[43mrec\u001b[49m\u001b[43m,\u001b[49m\u001b[43m \u001b[49m\u001b[43mnums\u001b[49m\u001b[43m)\u001b[49m\n\u001b[0;32m     45\u001b[0m ans\n",
      "Cell \u001b[1;32mIn[10], line 23\u001b[0m, in \u001b[0;36mcount_arrangements\u001b[1;34m(record, nums)\u001b[0m\n\u001b[0;32m     21\u001b[0m \u001b[38;5;66;03m# Case 1: Treat the '?' as though it were a '.'\u001b[39;00m\n\u001b[0;32m     22\u001b[0m \u001b[38;5;28;01mif\u001b[39;00m record[\u001b[38;5;241m0\u001b[39m] \u001b[38;5;129;01min\u001b[39;00m \u001b[38;5;124m'\u001b[39m\u001b[38;5;124m.?\u001b[39m\u001b[38;5;124m'\u001b[39m:\n\u001b[1;32m---> 23\u001b[0m     ans \u001b[38;5;241m+\u001b[39m\u001b[38;5;241m=\u001b[39m \u001b[43mcount_arrangements\u001b[49m\u001b[43m(\u001b[49m\u001b[43mrecord\u001b[49m\u001b[43m[\u001b[49m\u001b[38;5;241;43m1\u001b[39;49m\u001b[43m:\u001b[49m\u001b[43m]\u001b[49m\u001b[43m,\u001b[49m\u001b[43m \u001b[49m\u001b[43mnums\u001b[49m\u001b[43m)\u001b[49m\n\u001b[0;32m     25\u001b[0m \u001b[38;5;66;03m# Case 2: Treat the '?' as though it were a '#', creating a 'block' of permutable '?'s\u001b[39;00m\n\u001b[0;32m     26\u001b[0m \u001b[38;5;66;03m# This is valid if and only if the following conditions are true:\u001b[39;00m\n\u001b[0;32m     27\u001b[0m \u001b[38;5;66;03m#   - There must be a number of damaged springs in nums to be fulfilled that must be <= the length of our record.\u001b[39;00m\n\u001b[1;32m   (...)\u001b[0m\n\u001b[0;32m     30\u001b[0m \u001b[38;5;66;03m#       - No springs left\u001b[39;00m\n\u001b[0;32m     31\u001b[0m \u001b[38;5;66;03m#       - Springs afterwards: next spring must be not be damaged.\u001b[39;00m\n\u001b[0;32m     32\u001b[0m \u001b[38;5;28;01mif\u001b[39;00m record[\u001b[38;5;241m0\u001b[39m] \u001b[38;5;129;01min\u001b[39;00m \u001b[38;5;124m'\u001b[39m\u001b[38;5;124m#?\u001b[39m\u001b[38;5;124m'\u001b[39m:\n",
      "Cell \u001b[1;32mIn[10], line 23\u001b[0m, in \u001b[0;36mcount_arrangements\u001b[1;34m(record, nums)\u001b[0m\n\u001b[0;32m     21\u001b[0m \u001b[38;5;66;03m# Case 1: Treat the '?' as though it were a '.'\u001b[39;00m\n\u001b[0;32m     22\u001b[0m \u001b[38;5;28;01mif\u001b[39;00m record[\u001b[38;5;241m0\u001b[39m] \u001b[38;5;129;01min\u001b[39;00m \u001b[38;5;124m'\u001b[39m\u001b[38;5;124m.?\u001b[39m\u001b[38;5;124m'\u001b[39m:\n\u001b[1;32m---> 23\u001b[0m     ans \u001b[38;5;241m+\u001b[39m\u001b[38;5;241m=\u001b[39m \u001b[43mcount_arrangements\u001b[49m\u001b[43m(\u001b[49m\u001b[43mrecord\u001b[49m\u001b[43m[\u001b[49m\u001b[38;5;241;43m1\u001b[39;49m\u001b[43m:\u001b[49m\u001b[43m]\u001b[49m\u001b[43m,\u001b[49m\u001b[43m \u001b[49m\u001b[43mnums\u001b[49m\u001b[43m)\u001b[49m\n\u001b[0;32m     25\u001b[0m \u001b[38;5;66;03m# Case 2: Treat the '?' as though it were a '#', creating a 'block' of permutable '?'s\u001b[39;00m\n\u001b[0;32m     26\u001b[0m \u001b[38;5;66;03m# This is valid if and only if the following conditions are true:\u001b[39;00m\n\u001b[0;32m     27\u001b[0m \u001b[38;5;66;03m#   - There must be a number of damaged springs in nums to be fulfilled that must be <= the length of our record.\u001b[39;00m\n\u001b[1;32m   (...)\u001b[0m\n\u001b[0;32m     30\u001b[0m \u001b[38;5;66;03m#       - No springs left\u001b[39;00m\n\u001b[0;32m     31\u001b[0m \u001b[38;5;66;03m#       - Springs afterwards: next spring must be not be damaged.\u001b[39;00m\n\u001b[0;32m     32\u001b[0m \u001b[38;5;28;01mif\u001b[39;00m record[\u001b[38;5;241m0\u001b[39m] \u001b[38;5;129;01min\u001b[39;00m \u001b[38;5;124m'\u001b[39m\u001b[38;5;124m#?\u001b[39m\u001b[38;5;124m'\u001b[39m:\n",
      "    \u001b[1;31m[... skipping similar frames: count_arrangements at line 23 (6 times)]\u001b[0m\n",
      "Cell \u001b[1;32mIn[10], line 35\u001b[0m, in \u001b[0;36mcount_arrangements\u001b[1;34m(record, nums)\u001b[0m\n\u001b[0;32m     32\u001b[0m \u001b[38;5;28;01mif\u001b[39;00m record[\u001b[38;5;241m0\u001b[39m] \u001b[38;5;129;01min\u001b[39;00m \u001b[38;5;124m'\u001b[39m\u001b[38;5;124m#?\u001b[39m\u001b[38;5;124m'\u001b[39m:\n\u001b[0;32m     33\u001b[0m     \u001b[38;5;28;01mif\u001b[39;00m nums[\u001b[38;5;241m0\u001b[39m] \u001b[38;5;241m<\u001b[39m\u001b[38;5;241m=\u001b[39m \u001b[38;5;28mlen\u001b[39m(record) \u001b[38;5;129;01mand\u001b[39;00m \u001b[38;5;124m'\u001b[39m\u001b[38;5;124m.\u001b[39m\u001b[38;5;124m'\u001b[39m \u001b[38;5;129;01mnot\u001b[39;00m \u001b[38;5;129;01min\u001b[39;00m record[:nums[\u001b[38;5;241m0\u001b[39m]] \u001b[38;5;129;01mand\u001b[39;00m (nums[\u001b[38;5;241m0\u001b[39m] \u001b[38;5;241m==\u001b[39m \u001b[38;5;28mlen\u001b[39m(record) \u001b[38;5;129;01mor\u001b[39;00m record[nums[\u001b[38;5;241m0\u001b[39m]] \u001b[38;5;241m!=\u001b[39m \u001b[38;5;124m'\u001b[39m\u001b[38;5;124m#\u001b[39m\u001b[38;5;124m'\u001b[39m):\n\u001b[0;32m     34\u001b[0m         \u001b[38;5;66;03m# Start a valid block\u001b[39;00m\n\u001b[1;32m---> 35\u001b[0m         ans \u001b[38;5;241m+\u001b[39m\u001b[38;5;241m=\u001b[39m \u001b[43mcount_arrangements\u001b[49m\u001b[43m(\u001b[49m\u001b[43mrecord\u001b[49m\u001b[43m[\u001b[49m\u001b[43mnums\u001b[49m\u001b[43m[\u001b[49m\u001b[38;5;241;43m0\u001b[39;49m\u001b[43m]\u001b[49m\u001b[38;5;241;43m+\u001b[39;49m\u001b[38;5;241;43m1\u001b[39;49m\u001b[43m:\u001b[49m\u001b[43m]\u001b[49m\u001b[43m,\u001b[49m\u001b[43m \u001b[49m\u001b[43mnums\u001b[49m\u001b[43m[\u001b[49m\u001b[38;5;241;43m1\u001b[39;49m\u001b[43m:\u001b[49m\u001b[43m]\u001b[49m\u001b[43m)\u001b[49m\n\u001b[0;32m     37\u001b[0m \u001b[38;5;28;01mreturn\u001b[39;00m ans\n",
      "    \u001b[1;31m[... skipping similar frames: count_arrangements at line 23 (2 times)]\u001b[0m\n",
      "Cell \u001b[1;32mIn[10], line 35\u001b[0m, in \u001b[0;36mcount_arrangements\u001b[1;34m(record, nums)\u001b[0m\n\u001b[0;32m     32\u001b[0m \u001b[38;5;28;01mif\u001b[39;00m record[\u001b[38;5;241m0\u001b[39m] \u001b[38;5;129;01min\u001b[39;00m \u001b[38;5;124m'\u001b[39m\u001b[38;5;124m#?\u001b[39m\u001b[38;5;124m'\u001b[39m:\n\u001b[0;32m     33\u001b[0m     \u001b[38;5;28;01mif\u001b[39;00m nums[\u001b[38;5;241m0\u001b[39m] \u001b[38;5;241m<\u001b[39m\u001b[38;5;241m=\u001b[39m \u001b[38;5;28mlen\u001b[39m(record) \u001b[38;5;129;01mand\u001b[39;00m \u001b[38;5;124m'\u001b[39m\u001b[38;5;124m.\u001b[39m\u001b[38;5;124m'\u001b[39m \u001b[38;5;129;01mnot\u001b[39;00m \u001b[38;5;129;01min\u001b[39;00m record[:nums[\u001b[38;5;241m0\u001b[39m]] \u001b[38;5;129;01mand\u001b[39;00m (nums[\u001b[38;5;241m0\u001b[39m] \u001b[38;5;241m==\u001b[39m \u001b[38;5;28mlen\u001b[39m(record) \u001b[38;5;129;01mor\u001b[39;00m record[nums[\u001b[38;5;241m0\u001b[39m]] \u001b[38;5;241m!=\u001b[39m \u001b[38;5;124m'\u001b[39m\u001b[38;5;124m#\u001b[39m\u001b[38;5;124m'\u001b[39m):\n\u001b[0;32m     34\u001b[0m         \u001b[38;5;66;03m# Start a valid block\u001b[39;00m\n\u001b[1;32m---> 35\u001b[0m         ans \u001b[38;5;241m+\u001b[39m\u001b[38;5;241m=\u001b[39m \u001b[43mcount_arrangements\u001b[49m\u001b[43m(\u001b[49m\u001b[43mrecord\u001b[49m\u001b[43m[\u001b[49m\u001b[43mnums\u001b[49m\u001b[43m[\u001b[49m\u001b[38;5;241;43m0\u001b[39;49m\u001b[43m]\u001b[49m\u001b[38;5;241;43m+\u001b[39;49m\u001b[38;5;241;43m1\u001b[39;49m\u001b[43m:\u001b[49m\u001b[43m]\u001b[49m\u001b[43m,\u001b[49m\u001b[43m \u001b[49m\u001b[43mnums\u001b[49m\u001b[43m[\u001b[49m\u001b[38;5;241;43m1\u001b[39;49m\u001b[43m:\u001b[49m\u001b[43m]\u001b[49m\u001b[43m)\u001b[49m\n\u001b[0;32m     37\u001b[0m \u001b[38;5;28;01mreturn\u001b[39;00m ans\n",
      "    \u001b[1;31m[... skipping similar frames: count_arrangements at line 23 (24 times), count_arrangements at line 35 (11 times)]\u001b[0m\n",
      "Cell \u001b[1;32mIn[10], line 23\u001b[0m, in \u001b[0;36mcount_arrangements\u001b[1;34m(record, nums)\u001b[0m\n\u001b[0;32m     21\u001b[0m \u001b[38;5;66;03m# Case 1: Treat the '?' as though it were a '.'\u001b[39;00m\n\u001b[0;32m     22\u001b[0m \u001b[38;5;28;01mif\u001b[39;00m record[\u001b[38;5;241m0\u001b[39m] \u001b[38;5;129;01min\u001b[39;00m \u001b[38;5;124m'\u001b[39m\u001b[38;5;124m.?\u001b[39m\u001b[38;5;124m'\u001b[39m:\n\u001b[1;32m---> 23\u001b[0m     ans \u001b[38;5;241m+\u001b[39m\u001b[38;5;241m=\u001b[39m \u001b[43mcount_arrangements\u001b[49m\u001b[43m(\u001b[49m\u001b[43mrecord\u001b[49m\u001b[43m[\u001b[49m\u001b[38;5;241;43m1\u001b[39;49m\u001b[43m:\u001b[49m\u001b[43m]\u001b[49m\u001b[43m,\u001b[49m\u001b[43m \u001b[49m\u001b[43mnums\u001b[49m\u001b[43m)\u001b[49m\n\u001b[0;32m     25\u001b[0m \u001b[38;5;66;03m# Case 2: Treat the '?' as though it were a '#', creating a 'block' of permutable '?'s\u001b[39;00m\n\u001b[0;32m     26\u001b[0m \u001b[38;5;66;03m# This is valid if and only if the following conditions are true:\u001b[39;00m\n\u001b[0;32m     27\u001b[0m \u001b[38;5;66;03m#   - There must be a number of damaged springs in nums to be fulfilled that must be <= the length of our record.\u001b[39;00m\n\u001b[1;32m   (...)\u001b[0m\n\u001b[0;32m     30\u001b[0m \u001b[38;5;66;03m#       - No springs left\u001b[39;00m\n\u001b[0;32m     31\u001b[0m \u001b[38;5;66;03m#       - Springs afterwards: next spring must be not be damaged.\u001b[39;00m\n\u001b[0;32m     32\u001b[0m \u001b[38;5;28;01mif\u001b[39;00m record[\u001b[38;5;241m0\u001b[39m] \u001b[38;5;129;01min\u001b[39;00m \u001b[38;5;124m'\u001b[39m\u001b[38;5;124m#?\u001b[39m\u001b[38;5;124m'\u001b[39m:\n",
      "    \u001b[1;31m[... skipping similar frames: count_arrangements at line 35 (1 times)]\u001b[0m\n",
      "Cell \u001b[1;32mIn[10], line 35\u001b[0m, in \u001b[0;36mcount_arrangements\u001b[1;34m(record, nums)\u001b[0m\n\u001b[0;32m     32\u001b[0m \u001b[38;5;28;01mif\u001b[39;00m record[\u001b[38;5;241m0\u001b[39m] \u001b[38;5;129;01min\u001b[39;00m \u001b[38;5;124m'\u001b[39m\u001b[38;5;124m#?\u001b[39m\u001b[38;5;124m'\u001b[39m:\n\u001b[0;32m     33\u001b[0m     \u001b[38;5;28;01mif\u001b[39;00m nums[\u001b[38;5;241m0\u001b[39m] \u001b[38;5;241m<\u001b[39m\u001b[38;5;241m=\u001b[39m \u001b[38;5;28mlen\u001b[39m(record) \u001b[38;5;129;01mand\u001b[39;00m \u001b[38;5;124m'\u001b[39m\u001b[38;5;124m.\u001b[39m\u001b[38;5;124m'\u001b[39m \u001b[38;5;129;01mnot\u001b[39;00m \u001b[38;5;129;01min\u001b[39;00m record[:nums[\u001b[38;5;241m0\u001b[39m]] \u001b[38;5;129;01mand\u001b[39;00m (nums[\u001b[38;5;241m0\u001b[39m] \u001b[38;5;241m==\u001b[39m \u001b[38;5;28mlen\u001b[39m(record) \u001b[38;5;129;01mor\u001b[39;00m record[nums[\u001b[38;5;241m0\u001b[39m]] \u001b[38;5;241m!=\u001b[39m \u001b[38;5;124m'\u001b[39m\u001b[38;5;124m#\u001b[39m\u001b[38;5;124m'\u001b[39m):\n\u001b[0;32m     34\u001b[0m         \u001b[38;5;66;03m# Start a valid block\u001b[39;00m\n\u001b[1;32m---> 35\u001b[0m         ans \u001b[38;5;241m+\u001b[39m\u001b[38;5;241m=\u001b[39m \u001b[43mcount_arrangements\u001b[49m\u001b[43m(\u001b[49m\u001b[43mrecord\u001b[49m\u001b[43m[\u001b[49m\u001b[43mnums\u001b[49m\u001b[43m[\u001b[49m\u001b[38;5;241;43m0\u001b[39;49m\u001b[43m]\u001b[49m\u001b[38;5;241;43m+\u001b[39;49m\u001b[38;5;241;43m1\u001b[39;49m\u001b[43m:\u001b[49m\u001b[43m]\u001b[49m\u001b[43m,\u001b[49m\u001b[43m \u001b[49m\u001b[43mnums\u001b[49m\u001b[43m[\u001b[49m\u001b[38;5;241;43m1\u001b[39;49m\u001b[43m:\u001b[49m\u001b[43m]\u001b[49m\u001b[43m)\u001b[49m\n\u001b[0;32m     37\u001b[0m \u001b[38;5;28;01mreturn\u001b[39;00m ans\n",
      "Cell \u001b[1;32mIn[10], line 6\u001b[0m, in \u001b[0;36mcount_arrangements\u001b[1;34m(record, nums)\u001b[0m\n\u001b[0;32m      3\u001b[0m file \u001b[38;5;241m=\u001b[39m \u001b[38;5;28mopen\u001b[39m(\u001b[38;5;124m'\u001b[39m\u001b[38;5;124mday_12_test.txt\u001b[39m\u001b[38;5;124m'\u001b[39m, \u001b[38;5;124m'\u001b[39m\u001b[38;5;124mr\u001b[39m\u001b[38;5;124m'\u001b[39m)\n\u001b[0;32m      4\u001b[0m lines \u001b[38;5;241m=\u001b[39m file\u001b[38;5;241m.\u001b[39mreadlines()\n\u001b[1;32m----> 6\u001b[0m \u001b[38;5;28;01mdef\u001b[39;00m \u001b[38;5;21mcount_arrangements\u001b[39m(record, nums) \u001b[38;5;241m-\u001b[39m\u001b[38;5;241m>\u001b[39m \u001b[38;5;28mint\u001b[39m:\n\u001b[0;32m      8\u001b[0m     ans \u001b[38;5;241m=\u001b[39m \u001b[38;5;241m0\u001b[39m\n\u001b[0;32m     10\u001b[0m     \u001b[38;5;66;03m# Empty configuration is only valid if there are no more expected blocks of '#' in nums.\u001b[39;00m\n",
      "\u001b[1;31mKeyboardInterrupt\u001b[0m: "
     ]
    }
   ],
   "source": [
    "# Part 1\n",
    "\n",
    "file = open('day_12_test.txt', 'r')\n",
    "lines = file.readlines()\n",
    "\n",
    "def count_arrangements(record, nums) -> int:\n",
    "    \n",
    "    ans = 0\n",
    "\n",
    "    # Empty configuration is only valid if there are no more expected blocks of '#' in nums.\n",
    "    if not record:\n",
    "        return 1 if not nums else 0\n",
    "\n",
    "    # If there are no more upcoming blocks of '#' left in nums but we still have '#' in the record, then we have a contradiction.\n",
    "    if not nums:\n",
    "        if '#' in record:\n",
    "            return 0\n",
    "        else:\n",
    "            return 1\n",
    "\n",
    "    # Case 1: Treat the '?' as though it were a '.'\n",
    "    if record[0] in '.?':\n",
    "        ans += count_arrangements(record[1:], nums)\n",
    "    \n",
    "    # Case 2: Treat the '?' as though it were a '#', creating a 'block' of permutable '?'s\n",
    "    # This is valid if and only if the following conditions are true:\n",
    "    #   - There must be a number of damaged springs in nums to be fulfilled that must be <= the length of our record.\n",
    "    #   - There cannot be an operational spring within the first nums[0] springs.\n",
    "    #   - The next spring after the block must be operational.\n",
    "    #       - No springs left\n",
    "    #       - Springs afterwards: next spring must be not be damaged.\n",
    "    if record[0] in '#?':\n",
    "        if nums[0] <= len(record) and '.' not in record[:nums[0]] and (nums[0] == len(record) or record[nums[0]] != '#'):\n",
    "            # Start a valid block\n",
    "            ans += count_arrangements(record[nums[0]+1:], nums[1:])\n",
    "\n",
    "    return ans\n",
    "\n",
    "ans = 0\n",
    "for line in lines:\n",
    "    rec, nums = line.strip().split()\n",
    "    nums = list(map(int, nums.split(',')))\n",
    "    ans += count_arrangements(rec, nums)\n",
    "\n",
    "ans"
   ]
  },
  {
   "cell_type": "code",
   "execution_count": null,
   "metadata": {},
   "outputs": [],
   "source": [
    "# Part 2\n",
    "\n",
    "file = open('day_12_part_1.txt', 'r')\n",
    "lines = file.readlines()\n",
    "\n",
    "def count_arrangements(record, nums) -> int:\n",
    "    \n",
    "    ans = 0\n",
    "\n",
    "    # Empty configuration is only valid if there are no more expected blocks of '#' in nums.\n",
    "    if not record:\n",
    "        return 1 if not nums else 0\n",
    "\n",
    "    # If there are no more upcoming blocks of '#' left in nums but we still have '#' in the record, then we have a contradiction.\n",
    "    if not nums:\n",
    "        if '#' in record:\n",
    "            return 0\n",
    "        else:\n",
    "            return 1\n",
    "\n",
    "    # Case 1: Treat the '?' as though it were a '.'\n",
    "    if record[0] in '.?':\n",
    "        ans += count_arrangements(record[1:], nums)\n",
    "    \n",
    "    # Case 2: Treat the '?' as though it were a '#', creating a 'block' of permutable '?'s\n",
    "    # This is valid if and only if the following conditions are true:\n",
    "    #   - There must be a number of damaged springs in nums to be fulfilled that must be <= the length of our record.\n",
    "    #   - There cannot be an operational spring within the first nums[0] springs.\n",
    "    #   - The next spring after the block must be operational.\n",
    "    #       - No springs left\n",
    "    #       - Springs afterwards: next spring must be not be damaged.\n",
    "    if record[0] in '#?':\n",
    "        if nums[0] <= len(record) and '.' not in record[:nums[0]] and (nums[0] == len(record) or record[nums[0]] != '#'):\n",
    "            # Start a valid block\n",
    "            ans += count_arrangements(record[nums[0]+1:], nums[1:])\n",
    "\n",
    "    return ans\n",
    "\n",
    "ans = 0\n",
    "for line in lines:\n",
    "    rec, nums = line.strip().split()\n",
    "    nums = list(map(int, nums.split(',')))\n",
    "    ans += count_arrangements('?'.join([rec]*5), nums*5)\n",
    "    print('?'.join([rec]*5), nums*5, ans)\n",
    "\n",
    "ans"
   ]
  },
  {
   "cell_type": "code",
   "execution_count": 6,
   "metadata": {},
   "outputs": [
    {
     "data": {
      "text/plain": [
       "[1]"
      ]
     },
     "execution_count": 6,
     "metadata": {},
     "output_type": "execute_result"
    }
   ],
   "source": [
    "from typing import List\n",
    "from collections import Counter\n",
    "\n",
    "def topKFrequent(nums: List[int], k: int) -> List[int]:\n",
    "    \n",
    "    return list(map(lambda x:x[0], Counter(nums).most_common(k)))\n",
    "\n",
    "topKFrequent([1], 1)"
   ]
  }
 ],
 "metadata": {
  "kernelspec": {
   "display_name": "Python 3",
   "language": "python",
   "name": "python3"
  },
  "language_info": {
   "codemirror_mode": {
    "name": "ipython",
    "version": 3
   },
   "file_extension": ".py",
   "mimetype": "text/x-python",
   "name": "python",
   "nbconvert_exporter": "python",
   "pygments_lexer": "ipython3",
   "version": "3.12.0"
  }
 },
 "nbformat": 4,
 "nbformat_minor": 2
}
