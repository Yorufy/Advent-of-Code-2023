{
 "cells": [
  {
   "cell_type": "markdown",
   "metadata": {},
   "source": [
    "## Day 19 Aplenty\n",
    "\n",
    "### Part 1\n",
    "\n",
    "- We use a simple DFS."
   ]
  },
  {
   "cell_type": "code",
   "execution_count": 39,
   "metadata": {},
   "outputs": [
    {
     "data": {
      "text/plain": [
       "263678"
      ]
     },
     "execution_count": 39,
     "metadata": {},
     "output_type": "execute_result"
    }
   ],
   "source": [
    "# Part 1\n",
    "\n",
    "from functools import lru_cache\n",
    "\n",
    "file = open('day_19_input.txt').read().splitlines()\n",
    "\n",
    "workflows = {}\n",
    "break_point = file.index('')\n",
    "ans = 0\n",
    "\n",
    "@lru_cache\n",
    "def execute_workflow(workflow: str, x: int, m: int, a:int, s:int):\n",
    "\n",
    "    instructions = workflow.split(',')\n",
    "\n",
    "    for instruction in instructions:\n",
    "        condition, *next_workflow = instruction.split(':')\n",
    "\n",
    "        if not next_workflow:\n",
    "            return condition\n",
    "\n",
    "        if eval(condition) and next_workflow:\n",
    "            return next_workflow[0]\n",
    "\n",
    "@lru_cache\n",
    "def dfs(workflow: str, x: int, m: int, a: int, s: int):\n",
    "\n",
    "    next_workflow = execute_workflow(workflow, x, m, a, s)\n",
    "    if next_workflow == 'A':\n",
    "        return x+m+a+s\n",
    "    elif next_workflow == 'R':\n",
    "        return 0\n",
    "\n",
    "    return dfs(workflows[next_workflow], x, m, a, s)\n",
    "\n",
    "for i, line in enumerate(file):\n",
    "    if i < break_point:\n",
    "        wf, instructions = line.strip('}').split('{')\n",
    "        workflows[wf] = instructions\n",
    "\n",
    "    elif i > break_point:\n",
    "        x,m,a,s = line.strip('{').rstrip('}').split(',')\n",
    "\n",
    "        x = int(x.split('=')[1])\n",
    "        m = int(m.split('=')[1])\n",
    "        a = int(a.split('=')[1])\n",
    "        s = int(s.split('=')[1])\n",
    "\n",
    "        ans += dfs(workflows['in'], x, m, a, s)\n",
    "\n",
    "ans\n",
    "# 263678"
   ]
  },
  {
   "cell_type": "markdown",
   "metadata": {},
   "source": [
    "### Part 2\n",
    "\n",
    "- We use intervals for `x`, `m`, `a`, and `s` where the lower bound is inclusive and the upper bound is exclusive.\n",
    "- For each condition in every workflow, for the general case, one interval `new_interval` will satisfy a condition, and there will be a `leftover` interval that doesn't satisfy the condition. We can then DFS using this `new_interval`, and pass on the `leftover` interval to the next condition(s)."
   ]
  },
  {
   "cell_type": "code",
   "execution_count": 32,
   "metadata": {},
   "outputs": [
    {
     "data": {
      "text/plain": [
       "125455345557345"
      ]
     },
     "execution_count": 32,
     "metadata": {},
     "output_type": "execute_result"
    }
   ],
   "source": [
    "# Part 2\n",
    "\n",
    "from functools import lru_cache\n",
    "\n",
    "file = open('day_19_input.txt').read().splitlines()\n",
    "\n",
    "workflows = {}\n",
    "break_point = file.index('')\n",
    "ans = 0\n",
    "\n",
    "def is_valid_range(lb: int, ub: int):\n",
    "\n",
    "    if lb >= ub:\n",
    "        return False\n",
    "    return True\n",
    "\n",
    "def generate_new_range(interval: tuple[int, int], sign: str, bound: int):\n",
    "\n",
    "    new_interval = [interval[0], interval[1]]\n",
    "    leftover = [interval[0], interval[1]]\n",
    "\n",
    "    match sign:\n",
    "        case '<':\n",
    "            new_interval[1] = bound\n",
    "            leftover[0] = bound\n",
    "        case '>':\n",
    "            new_interval[0] = bound + 1\n",
    "            leftover[1] = bound + 1\n",
    "\n",
    "    return tuple(new_interval), tuple(leftover)\n",
    "\n",
    "@lru_cache\n",
    "def dfs(workflow: str, x: tuple[int, int], m: tuple[int, int], a: tuple[int, int], s: tuple[int, int]):\n",
    "\n",
    "    if workflow == 'A':\n",
    "        return (x[1]-x[0])*(m[1]-m[0])*(a[1]-a[0])*(s[1]-s[0])\n",
    "    elif workflow == 'R':\n",
    "        return 0\n",
    "\n",
    "    workflow = workflows[workflow]\n",
    "    instructions = workflow.split(',')\n",
    "    _sum = 0\n",
    "\n",
    "    for instruction in instructions:\n",
    "        condition, *next_workflow = instruction.split(':')\n",
    "\n",
    "        if not next_workflow:\n",
    "            _sum += dfs(condition, x, m, a, s)\n",
    "\n",
    "        else:\n",
    "            condvar, condsign, condbound = condition[0], condition[1], condition[2:]\n",
    "            if condvar == 'x':\n",
    "                new_interval, leftover = generate_new_range(x, condsign, int(condbound))\n",
    "            elif condvar == 'm':\n",
    "                new_interval, leftover = generate_new_range(m, condsign, int(condbound))\n",
    "            elif condvar == 'a':\n",
    "                new_interval, leftover = generate_new_range(a, condsign, int(condbound))\n",
    "            elif condvar == 's':\n",
    "                new_interval, leftover = generate_new_range(s, condsign, int(condbound))\n",
    "            if is_valid_range(new_interval[0], new_interval[1]):\n",
    "                _sum += dfs(next_workflow[0], new_interval if condvar == 'x' else x, new_interval if condvar == 'm' else m, new_interval if condvar == 'a' else a, new_interval if condvar == 's' else s)\n",
    "            if is_valid_range(leftover[0], leftover[1]):\n",
    "                match condvar:\n",
    "                    case 'x':\n",
    "                        x = leftover\n",
    "                    case 'm':\n",
    "                        m = leftover\n",
    "                    case 'a':\n",
    "                        a = leftover\n",
    "                    case 's':\n",
    "                        s = leftover\n",
    "\n",
    "    return _sum \n",
    "\n",
    "\n",
    "for i, line in enumerate(file):\n",
    "    if i < break_point:\n",
    "        wf, instructions = line.strip('}').split('{')\n",
    "        workflows[wf] = instructions\n",
    "    else:\n",
    "        break\n",
    "\n",
    "ans = dfs('in', (1, 4001), (1, 4001), (1, 4001), (1, 4001))\n",
    "ans\n",
    "#125455345557345"
   ]
  }
 ],
 "metadata": {
  "kernelspec": {
   "display_name": "Python 3",
   "language": "python",
   "name": "python3"
  },
  "language_info": {
   "codemirror_mode": {
    "name": "ipython",
    "version": 3
   },
   "file_extension": ".py",
   "mimetype": "text/x-python",
   "name": "python",
   "nbconvert_exporter": "python",
   "pygments_lexer": "ipython3",
   "version": "3.11.7"
  }
 },
 "nbformat": 4,
 "nbformat_minor": 2
}
