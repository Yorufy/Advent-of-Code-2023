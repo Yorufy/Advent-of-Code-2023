{
 "cells": [
  {
   "cell_type": "markdown",
   "metadata": {},
   "source": [
    "## Day 13 Point of Incidence\n",
    "\n",
    "### Part 1\n",
    "\n",
    "**Initial Intuition**\n",
    "\n",
    "- Just brute force search for symmetry in the vertical and horizontal axes."
   ]
  },
  {
   "cell_type": "code",
   "execution_count": 2,
   "metadata": {},
   "outputs": [
    {
     "data": {
      "text/plain": [
       "34889"
      ]
     },
     "execution_count": 2,
     "metadata": {},
     "output_type": "execute_result"
    }
   ],
   "source": [
    "# Part 1\n",
    "\n",
    "file = open('day_13_part_1.txt', 'r')\n",
    "lines = file.readlines()\n",
    "\n",
    "lines.append('')\n",
    "\n",
    "m, n = 0, 0\n",
    "ans = 0\n",
    "\n",
    "group = []\n",
    "for line in lines:\n",
    "    line = line.strip('\\n')\n",
    "    \n",
    "    if not line:\n",
    "\n",
    "        vertical_line_of_symmetry = set([index for index in range(n)]) #Symmetry in vertical line\n",
    "        horizontal_line_of_symmetry = set([index for index in range(m)]) #Symmetry in horizontal line\n",
    "        prev = 0\n",
    "\n",
    "        for index, l in enumerate(group):\n",
    "\n",
    "            for i in range(len(l)):\n",
    "                \n",
    "                if l != prev:\n",
    "                    horizontal_line_of_symmetry.remove(index)\n",
    "                \n",
    "                reflected_length = min(len(l[:i]), len(l[i:]))\n",
    "                if l[i-reflected_length:i][::-1] != l[i:i+reflected_length]:\n",
    "\n",
    "                    if i in vertical_line_of_symmetry:\n",
    "                        vertical_line_of_symmetry.remove(i)\n",
    "\n",
    "                prev = l\n",
    "\n",
    "        #Validate symmetry in a horizontal line\n",
    "        valid = set()\n",
    "        for l in horizontal_line_of_symmetry:\n",
    "            up, down = l-1, l\n",
    "            is_valid = True\n",
    "            \n",
    "            while (up >= 0 and down < len(group)):\n",
    "                if group[up] != group[down]:\n",
    "                    is_valid = False\n",
    "                    break\n",
    "                up -= 1\n",
    "                down += 1\n",
    "\n",
    "            if is_valid:\n",
    "                valid.add(l)\n",
    "\n",
    "        for vert in vertical_line_of_symmetry:\n",
    "            ans += vert\n",
    "        for hor in valid:\n",
    "            ans += (100*hor)\n",
    "\n",
    "        group = []\n",
    "        m, n = 0, 0\n",
    "\n",
    "    else:\n",
    "        group.append(line)\n",
    "        m += 1\n",
    "        n = len(line)\n",
    "\n",
    "ans #34889"
   ]
  },
  {
   "cell_type": "markdown",
   "metadata": {},
   "source": [
    "**Part 1 Improvements**\n",
    "\n",
    "*Note* that we don't have to handle the cases of vertical and horizontal lines of symmetry separately. Instead, we only need to define a function `check_horizontal_line` to check for a horizontal line of symmetry, and another function `transpose` that will transpose our 2D matrix parameter `group` such that the row indices become the columns' and vice versa, allowing us to find the vertical line of symmetry with the same function. \n",
    "\n",
    "The function, `check_horizontal_line` checks for a horizontal line of symmetry in a 2D array `group` by iterating through the rows and finding whether all rows within an equal range above and below that index are equal in reverse, indicating they are symmetric. It returns 0 if no such symmetry is found."
   ]
  },
  {
   "cell_type": "code",
   "execution_count": 1,
   "metadata": {},
   "outputs": [
    {
     "data": {
      "text/plain": [
       "34889"
      ]
     },
     "execution_count": 1,
     "metadata": {},
     "output_type": "execute_result"
    }
   ],
   "source": [
    "# Part 1\n",
    "\n",
    "file = open('day_13_part_1.txt', 'r')\n",
    "lines = file.read().splitlines()\n",
    "\n",
    "lines.append('')\n",
    "\n",
    "m, n = 0, 0\n",
    "ans = 0\n",
    "\n",
    "def check_horizontal_line(group):\n",
    "\n",
    "    for i in range(1, len(group)):\n",
    "\n",
    "        up, down = group[:i][::-1], group[i:]\n",
    "\n",
    "        length = min(len(up), len(down))\n",
    "\n",
    "        up = up[:length]\n",
    "        down = down[:length]\n",
    "\n",
    "        if up == down:\n",
    "            return i\n",
    "        \n",
    "    return 0\n",
    "\n",
    "def transpose(group):\n",
    "    return list(zip(*group))\n",
    "\n",
    "group = []\n",
    "for i, line in enumerate(lines):\n",
    "    if line:\n",
    "        group.append(line)\n",
    "    else:\n",
    "        \n",
    "        vert = check_horizontal_line(transpose(group))\n",
    "        horiz = check_horizontal_line(group)\n",
    "        ans += vert + 100*horiz\n",
    "\n",
    "        group = []\n",
    "\n",
    "ans"
   ]
  },
  {
   "cell_type": "markdown",
   "metadata": {},
   "source": [
    "### Part 2\n",
    "\n",
    "We make modifications to our symmetry-detection function, `check_horizontal_line`. For each potential line of symmetry at index `i`, we iterate through the corresponding rows (in symmetry) in up and down respectively (`zip(up, down)`). For each of these corresponding rows (`zip(r1, r2)`) we iterate through each of their elements `a,b`. If `a != b` then there is a mismatch. We require that the total number of mismatches is strictly equal to 1 such that there only exists one smudge to correct. If this condition holds true, then we have found our new line of symmetry, and so can return `i`."
   ]
  },
  {
   "cell_type": "code",
   "execution_count": 3,
   "metadata": {},
   "outputs": [
    {
     "data": {
      "text/plain": [
       "34224"
      ]
     },
     "execution_count": 3,
     "metadata": {},
     "output_type": "execute_result"
    }
   ],
   "source": [
    "# Part 2\n",
    "\n",
    "file = open('day_13_part_1.txt', 'r')\n",
    "lines = file.read().splitlines()\n",
    "\n",
    "lines.append('')\n",
    "\n",
    "m, n = 0, 0\n",
    "ans = 0\n",
    "\n",
    "def check_horizontal_line(group):\n",
    "\n",
    "    for i in range(1, len(group)):\n",
    "\n",
    "        up, down = group[:i][::-1], group[i:]\n",
    "\n",
    "        length = min(len(up), len(down))\n",
    "\n",
    "        up = up[:length]\n",
    "        down = down[:length]\n",
    "\n",
    "        #Compare the corresponding rows and columns in up and down\n",
    "        total_number_of_mismatches = 0\n",
    "        for (r1, r2) in zip(up, down):\n",
    "            number_of_mismatches = 0\n",
    "            for (a,b) in zip(r1, r2): #Iterate through each corresponding character in the corresponding rows through a line of symmetry\n",
    "                if a != b:\n",
    "                    number_of_mismatches += 1\n",
    "            total_number_of_mismatches += number_of_mismatches\n",
    "\n",
    "        if total_number_of_mismatches == 1:\n",
    "            return i\n",
    "\n",
    "    return 0\n",
    "\n",
    "def transpose(group):\n",
    "    return list(zip(*group))\n",
    "\n",
    "def summary(group):\n",
    "    return check_horizontal_line(transpose(group)), check_horizontal_line(group) #Vertical, horizontal lines of symmetry\n",
    "\n",
    "group = []\n",
    "for i, line in enumerate(lines):\n",
    "    if line:\n",
    "        group.append(line)\n",
    "    else:\n",
    "        \n",
    "        vert, horiz = summary(group)\n",
    "\n",
    "        ans += vert + 100*horiz\n",
    "\n",
    "        group = []\n",
    "\n",
    "ans"
   ]
  }
 ],
 "metadata": {
  "kernelspec": {
   "display_name": "Python 3",
   "language": "python",
   "name": "python3"
  },
  "language_info": {
   "codemirror_mode": {
    "name": "ipython",
    "version": 3
   },
   "file_extension": ".py",
   "mimetype": "text/x-python",
   "name": "python",
   "nbconvert_exporter": "python",
   "pygments_lexer": "ipython3",
   "version": "3.11.6"
  }
 },
 "nbformat": 4,
 "nbformat_minor": 2
}
