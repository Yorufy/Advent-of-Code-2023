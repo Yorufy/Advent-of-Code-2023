{
 "cells": [
  {
   "cell_type": "code",
   "execution_count": 20,
   "metadata": {},
   "outputs": [
    {
     "name": "stdout",
     "output_type": "stream",
     "text": [
      "17803\n"
     ]
    }
   ],
   "source": [
    "# Part 1\n",
    "\n",
    "file = open('day_4_part_1.txt', 'r')\n",
    "\n",
    "ans = 0\n",
    "\n",
    "for line in file.readlines():\n",
    "\n",
    "    card, rest = line.split(': ')\n",
    "    win, have = rest.split(' | ')\n",
    "    win = win.strip().split(' ')\n",
    "    have = have.strip().split(' ')\n",
    "    count = 0\n",
    "\n",
    "    for num in have:\n",
    "        if num:\n",
    "            if num in win and count == 0:\n",
    "                count += 1\n",
    "            elif num in win and count > 0:\n",
    "                count *= 2\n",
    "    \n",
    "    ans += count\n",
    "\n",
    "print(ans)\n",
    "\n",
    "# 17803"
   ]
  },
  {
   "cell_type": "code",
   "execution_count": 51,
   "metadata": {},
   "outputs": [
    {
     "name": "stdout",
     "output_type": "stream",
     "text": [
      "5554894\n"
     ]
    }
   ],
   "source": [
    "# Part 2\n",
    "\n",
    "file = open('day_4_part_2.txt', 'r')\n",
    "\n",
    "ans = 0\n",
    "lines = file.readlines()\n",
    "card_count = [0] * (len(lines)+1)\n",
    "\n",
    "for line in lines:\n",
    "\n",
    "    card, rest = line.split(': ')\n",
    "    card_num = 0\n",
    "    exponent = 0\n",
    "    pointer = len(card)-1\n",
    "    while card[pointer].isnumeric():\n",
    "        card_num += (pow(10, exponent)*int(card[pointer]))\n",
    "        exponent += 1\n",
    "        pointer -= 1\n",
    "\n",
    "    win, have = rest.split(' | ')\n",
    "    win = win.strip().split(' ')\n",
    "    have = have.strip().split(' ')\n",
    "    count = 0\n",
    "\n",
    "    for num in have:\n",
    "        if num and num in win:\n",
    "            count += 1\n",
    "\n",
    "    card_count[card_num] += 1\n",
    "\n",
    "    for c in range(1, count+1):\n",
    "        card_count[card_num+c] += card_count[card_num]\n",
    "\n",
    "print( sum(card_count) )\n",
    "\n",
    "# 5554894"
   ]
  }
 ],
 "metadata": {
  "kernelspec": {
   "display_name": "Python 3",
   "language": "python",
   "name": "python3"
  },
  "language_info": {
   "codemirror_mode": {
    "name": "ipython",
    "version": 3
   },
   "file_extension": ".py",
   "mimetype": "text/x-python",
   "name": "python",
   "nbconvert_exporter": "python",
   "pygments_lexer": "ipython3",
   "version": "3.12.0"
  }
 },
 "nbformat": 4,
 "nbformat_minor": 2
}
