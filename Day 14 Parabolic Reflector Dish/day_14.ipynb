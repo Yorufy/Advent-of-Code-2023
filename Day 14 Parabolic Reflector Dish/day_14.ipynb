{
 "cells": [
  {
   "cell_type": "markdown",
   "metadata": {},
   "source": [
    "## Day 14 Parabolic Reflector Dish\n",
    "\n",
    "### Part 1\n",
    "\n",
    "**Approach**\n",
    "\n",
    "We maintain a 1D array which represents the next-highest load value (i.e. 'the number of rows from the rock to the south edge of the platform'). If we meet a fixed, cube rock, then the next position in which we can place a spherical rock is in the position directly under it."
   ]
  },
  {
   "cell_type": "code",
   "execution_count": null,
   "metadata": {},
   "outputs": [],
   "source": [
    "# Part 1\n",
    "\n",
    "file = open('day_14_part_1.txt', 'r')\n",
    "lines = list(map(list, file.read().splitlines()))\n",
    "\n",
    "M, N = len(lines), len(lines[0])\n",
    "load = 0\n",
    "next_highest = [M] * N\n",
    "\n",
    "for i in range(M):\n",
    "    for j in range(N):\n",
    "        \n",
    "        if lines[i][j] == '#':\n",
    "            next_highest[j] = M-i-1\n",
    "\n",
    "        elif lines[i][j] == 'O':\n",
    "            load += next_highest[j]\n",
    "            next_highest[j] -= 1\n",
    "\n",
    "load #108889"
   ]
  },
  {
   "cell_type": "markdown",
   "metadata": {},
   "source": [
    "### Part 2\n",
    "\n",
    "*Note* that our previous approach was designed for calculating the load whilst performing a north tilt of the platform. Hence, we modify it to just search our grid `lines`, instead of performing a north tilt as well.\n",
    "\n",
    "**Approach**\n",
    "\n",
    "We define four functions for platform tilts in all four cardinal directions, using a similar concept to part 1's main program. \n",
    "\n",
    "We want to determine when the spin cycle repeats, and at which point from the start. Hence we maintain an array of `lines` in the tuple form (so that it is immutable), and find the `count` (number of iterations until we have reached the end of a cycle), `first` (the stage at which the cycle first begins) such that `count - first` is the length of the cycle. From there, we use the modulo operator so that we don't have to call `spin_cycle` one billion times. In the case of my input, the cycle first began at the 139th iteration and ended on the 153rd iteration."
   ]
  },
  {
   "cell_type": "code",
   "execution_count": 115,
   "metadata": {},
   "outputs": [
    {
     "name": "stdout",
     "output_type": "stream",
     "text": [
      "153 139\n"
     ]
    },
    {
     "data": {
      "text/plain": [
       "104671"
      ]
     },
     "execution_count": 115,
     "metadata": {},
     "output_type": "execute_result"
    }
   ],
   "source": [
    "# Part 2\n",
    "\n",
    "file = open('day_14_part_1.txt', 'r')\n",
    "lines = list(map(list, file.read().splitlines()))\n",
    "\n",
    "M, N = len(lines), len(lines[0])\n",
    "CYCLES = 1_000_000_000\n",
    "\n",
    "def print_lines():\n",
    "    for l in lines:\n",
    "        print(l)\n",
    "\n",
    "def calculate_load(lines):\n",
    "\n",
    "    M, N = len(lines), len(lines[0])\n",
    "\n",
    "    load = 0\n",
    "\n",
    "    for i in range(M):\n",
    "        for j in range(N):\n",
    "            \n",
    "            if lines[i][j] == 'O':\n",
    "                load += M-i\n",
    "\n",
    "    return load\n",
    "\n",
    "def tilt_north():\n",
    "    global lines\n",
    "    for j in range(N): #row\n",
    "        next_highest = 0\n",
    "        for i in range(M): #column\n",
    "            if lines[i][j] == 'O':\n",
    "                lines[i][j] = '.'\n",
    "                lines[next_highest][j] = 'O'\n",
    "                next_highest += 1\n",
    "            elif lines[i][j] == '#':\n",
    "                next_highest = i+1\n",
    "\n",
    "def tilt_south():\n",
    "    global lines\n",
    "    for j in range(N): #row\n",
    "        next_lowest = M-1\n",
    "        for i in range(M-1, -1, -1): #column\n",
    "            if lines[i][j] == 'O':\n",
    "                lines[i][j] = '.'\n",
    "                lines[next_lowest][j] = 'O'\n",
    "                next_lowest -= 1\n",
    "            elif lines[i][j] == '#':\n",
    "                next_lowest = i-1\n",
    "\n",
    "def tilt_east():\n",
    "    global lines\n",
    "    for i in range(M):\n",
    "        next_right = N-1\n",
    "        for j in range(N-1, -1, -1):\n",
    "            if lines[i][j] == 'O':\n",
    "                lines[i][j] = '.'\n",
    "                lines[i][next_right] = 'O'\n",
    "                next_right -= 1\n",
    "            elif lines[i][j] == '#':\n",
    "                next_right = j-1\n",
    "\n",
    "def tilt_west():\n",
    "    global lines\n",
    "    for i in range(M):\n",
    "        next_left = 0\n",
    "        for j in range(N):\n",
    "            if lines[i][j] == 'O':\n",
    "                lines[i][j] = '.'\n",
    "                lines[i][next_left] = 'O'\n",
    "                next_left += 1\n",
    "            elif lines[i][j] == '#':\n",
    "                next_left = j+1 \n",
    "\n",
    "def spin_cycle():\n",
    "    tilt_north()\n",
    "    tilt_west()\n",
    "    tilt_south()\n",
    "    tilt_east()\n",
    "\n",
    "arr = [tuple(map(lambda x:''.join(x), lines))]\n",
    "count = 0\n",
    "\n",
    "while True:\n",
    "    count += 1\n",
    "    spin_cycle()\n",
    "    if tuple(map(lambda x:''.join(x), lines)) in arr:\n",
    "        break\n",
    "    arr.append(tuple(map(lambda x:''.join(x), lines)))\n",
    "\n",
    "first = arr.index(tuple(map(lambda x:''.join(x), lines)))\n",
    "print(count, first) #153, 139\n",
    "\n",
    "lines = arr[(CYCLES - first) % (count - first) + first]\n",
    "calculate_load(list(map(lambda x: list(x), lines)))\n",
    "#104671"
   ]
  }
 ],
 "metadata": {
  "kernelspec": {
   "display_name": "Python 3",
   "language": "python",
   "name": "python3"
  },
  "language_info": {
   "codemirror_mode": {
    "name": "ipython",
    "version": 3
   },
   "file_extension": ".py",
   "mimetype": "text/x-python",
   "name": "python",
   "nbconvert_exporter": "python",
   "pygments_lexer": "ipython3",
   "version": "3.11.6"
  }
 },
 "nbformat": 4,
 "nbformat_minor": 2
}
