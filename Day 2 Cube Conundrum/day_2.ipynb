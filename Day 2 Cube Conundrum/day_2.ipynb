{
 "cells": [
  {
   "cell_type": "code",
   "execution_count": 33,
   "metadata": {},
   "outputs": [
    {
     "name": "stdout",
     "output_type": "stream",
     "text": [
      "2061\n"
     ]
    }
   ],
   "source": [
    "# Part 1\n",
    "\n",
    "ans = 0\n",
    "\n",
    "file = open('day_2_part_1.txt', 'r')\n",
    "\n",
    "for g in file.readlines():\n",
    "    \n",
    "    game, info = g.split(': ')\n",
    "    game = int(game.strip('Game '))\n",
    "    info = info.strip().split('; ')\n",
    "    valid = True\n",
    "    \n",
    "    for item in info:\n",
    "        red, green, blue = 0, 0, 0\n",
    "        \n",
    "        for thing in item.split(', '):\n",
    "            \n",
    "            num, colour = thing.split(' ')\n",
    "            match colour:\n",
    "                case 'red':\n",
    "                    red += int(num)\n",
    "                case 'blue':\n",
    "                    blue += int(num)\n",
    "                case 'green':\n",
    "                    green += int(num)\n",
    "        if red > 12 or green > 13 or blue > 14 or (red+green+blue) > 39:\n",
    "            valid = False\n",
    "            \n",
    "            break\n",
    "       \n",
    "    if valid:\n",
    "        \n",
    "        ans += game\n",
    "\n",
    "print(ans)"
   ]
  },
  {
   "cell_type": "code",
   "execution_count": 39,
   "metadata": {},
   "outputs": [
    {
     "name": "stdout",
     "output_type": "stream",
     "text": [
      "72596\n"
     ]
    }
   ],
   "source": [
    "# Part 2\n",
    "\n",
    "ans = 0\n",
    "\n",
    "file = open('day_2_part_2.txt', 'r')\n",
    "\n",
    "for g in file.readlines():\n",
    "    \n",
    "\n",
    "    game, info = g.split(': ')\n",
    "    game = int(game.strip('Game '))\n",
    "    info = info.strip().split('; ')\n",
    "    max_red, max_green, max_blue = float('-inf'), float('-inf'), float('-inf')\n",
    "    \n",
    "    for item in info:\n",
    "        red, green, blue = 0, 0, 0\n",
    "        \n",
    "        for thing in item.split(', '):\n",
    "            \n",
    "            num, colour = thing.split(' ')\n",
    "            match colour:\n",
    "                case 'red':\n",
    "                    red += int(num)\n",
    "                case 'blue':\n",
    "                    blue += int(num)\n",
    "                case 'green':\n",
    "                    green += int(num)\n",
    "        max_red, max_green, max_blue = max(max_red, red), max(max_green, green), max(max_blue, blue)\n",
    "    \n",
    "    ans += (max_red*max_green*max_blue)\n",
    "\n",
    "print(ans)"
   ]
  }
 ],
 "metadata": {
  "kernelspec": {
   "display_name": "Python 3",
   "language": "python",
   "name": "python3"
  },
  "language_info": {
   "codemirror_mode": {
    "name": "ipython",
    "version": 3
   },
   "file_extension": ".py",
   "mimetype": "text/x-python",
   "name": "python",
   "nbconvert_exporter": "python",
   "pygments_lexer": "ipython3",
   "version": "3.12.0"
  }
 },
 "nbformat": 4,
 "nbformat_minor": 2
}
