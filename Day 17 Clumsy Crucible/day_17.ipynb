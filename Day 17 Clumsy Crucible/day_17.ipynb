{
 "cells": [
  {
   "cell_type": "markdown",
   "metadata": {},
   "source": [
    "## Day 17 Clumsy Crucible\n",
    "\n",
    "### Part 1\n",
    "\n",
    "**Approach**\n",
    "\n",
    "My initial intuition was to use a BFS, but this could lead to closed loops where the heat loss keeps increasing, and may not necessarily find the shortest path. Hence, we should use Dijkstra's Algorithm, which is a shortest-path algorithm. \n",
    "\n",
    "We maintain a priority queue using Python's `heapq` library, which orders its data items using the first metric in a tuple of items. Each tuple contains the heat loss (which is used as the priority metric), the indices of the current location in the grid, the direction from which we came, and the number of times we have travelled in the same direction. \n",
    "\n",
    "We create a set that stores some of these features (excluding the heat loss) so that we don't get stuck in an unproductive loop, by marking fully-explored nodes as visited.\n",
    "\n",
    "The first time we get to the bottom-right corner of the grid is also necessarily using the shortest-path, since we are using a min-heap and always greedily dequeueing the node with the shortest heat loss at any given time."
   ]
  },
  {
   "cell_type": "code",
   "execution_count": 118,
   "metadata": {},
   "outputs": [
    {
     "name": "stdout",
     "output_type": "stream",
     "text": [
      "1260\n"
     ]
    }
   ],
   "source": [
    "# Part 1 - Dijkstra's Algorithm\n",
    "\n",
    "from heapq import heapify, heappop, heappush\n",
    "\n",
    "lines = [list(map(int, line.strip())) for line in open('day_17_input.txt', 'r')]\n",
    "\n",
    "M, N = len(lines), len(lines[0])\n",
    "DIRECTIONS = [(1,0),(-1,0),(0,-1),(0,1)]\n",
    "\n",
    "visited = set()\n",
    "# heat_losses = [[float('inf')]*N for _ in range(M)]\n",
    "# heat_losses[0][0] = 0\n",
    "heap = [(0,0,0,0,0,0)] #heat loss, x, y, prevdx, prevdy, number of times of prev(dx,dy)\n",
    "heapify(heap)\n",
    "\n",
    "while heap:\n",
    "\n",
    "    hl, x, y, prevdx, prevdy, pdcount = heappop(heap)\n",
    "\n",
    "    if x == N-1 and y == M-1:\n",
    "        print(hl)\n",
    "        break\n",
    "\n",
    "    if (x,y,prevdx,prevdy,pdcount) in visited:\n",
    "        continue\n",
    "\n",
    "    for dx, dy in DIRECTIONS:\n",
    "        if (dx,dy) == (-prevdx,-prevdy): #We are reversing - travelling in the direction we came from\n",
    "            continue\n",
    "        elif (dx == prevdx and dy == prevdy and pdcount == 3): #We can't travel in the same direction more than three times\n",
    "            continue\n",
    "        if (x+dx in range(N) and\n",
    "            y+dy in range(M)):\n",
    "\n",
    "            # if hl+lines[y+dy][x+dx] < heat_losses[y+dy][x+dx]:\n",
    "            #     heat_losses[y+dy][x+dx] = hl+lines[y+dy][x+dx]\n",
    "\n",
    "            heappush(heap, (hl+lines[y+dy][x+dx], x+dx, y+dy, dx, dy, pdcount+1 if (prevdx == dx and prevdy == dy) else 1))\n",
    "            \n",
    "    visited.add((x,y,prevdx,prevdy,pdcount))\n",
    "\n",
    "#1260"
   ]
  },
  {
   "cell_type": "markdown",
   "metadata": {},
   "source": [
    "### Part 2\n",
    "\n",
    "**Modifications**\n",
    "\n",
    "We make a few modifications to our part 1 code:\n",
    "\n",
    "- Note that the base condition for a valid path to the bottom-right corner now includes an additional constraint that it must have moved at least four spaces in a direction.\n",
    "- We can only turn 90 degrees if we have travelled in the same direction for at least four spaces.\n",
    "- We can only travel in the same direction for a maximum of 10 spaces."
   ]
  },
  {
   "cell_type": "code",
   "execution_count": 119,
   "metadata": {},
   "outputs": [
    {
     "name": "stdout",
     "output_type": "stream",
     "text": [
      "1416\n"
     ]
    }
   ],
   "source": [
    "# Part 2 - Modified Dijkstra's Algorithm\n",
    "\n",
    "from heapq import heapify, heappop, heappush\n",
    "\n",
    "lines = [list(map(int, line.strip())) for line in open('day_17_input.txt', 'r')]\n",
    "\n",
    "M, N = len(lines), len(lines[0])\n",
    "DIRECTIONS = [(1,0),(-1,0),(0,-1),(0,1)]\n",
    "\n",
    "visited = set()\n",
    "# heat_losses = [[float('inf')]*N for _ in range(M)]\n",
    "# heat_losses[0][0] = 0\n",
    "heap = [(0,0,0,0,0,0)] #heat loss, x, y, prevdx, prevdy, number of times of prev(dx,dy)\n",
    "heapify(heap)\n",
    "\n",
    "while heap:\n",
    "\n",
    "    hl, x, y, prevdx, prevdy, pdcount = heappop(heap)\n",
    "\n",
    "    if x == N-1 and y == M-1 and pdcount >= 4:\n",
    "        print(hl)\n",
    "        break\n",
    "\n",
    "    if (x,y,prevdx,prevdy,pdcount) in visited:\n",
    "        continue\n",
    "\n",
    "    for dx, dy in DIRECTIONS:\n",
    "        if (dx,dy) == (-prevdx,-prevdy):\n",
    "            continue\n",
    "        elif (dx == prevdx and dy == prevdy and pdcount == 10):\n",
    "            continue\n",
    "\n",
    "        if (dx,dy) != (prevdx,prevdy) and (prevdx,prevdy) != (0,0) and pdcount < 4:\n",
    "            continue\n",
    "\n",
    "        if (x+dx in range(N) and\n",
    "            y+dy in range(M)):\n",
    "\n",
    "            # if hl+lines[y+dy][x+dx] < heat_losses[y+dy][x+dx]:\n",
    "            #     heat_losses[y+dy][x+dx] = hl+lines[y+dy][x+dx]\n",
    "\n",
    "            heappush(heap, (hl+lines[y+dy][x+dx], x+dx, y+dy, dx, dy, pdcount+1 if (prevdx == dx and prevdy == dy) else 1))\n",
    "            \n",
    "    visited.add((x,y,prevdx,prevdy,pdcount))\n",
    "\n",
    "# 1416"
   ]
  }
 ],
 "metadata": {
  "kernelspec": {
   "display_name": "Python 3",
   "language": "python",
   "name": "python3"
  },
  "language_info": {
   "codemirror_mode": {
    "name": "ipython",
    "version": 3
   },
   "file_extension": ".py",
   "mimetype": "text/x-python",
   "name": "python",
   "nbconvert_exporter": "python",
   "pygments_lexer": "ipython3",
   "version": "3.11.6"
  }
 },
 "nbformat": 4,
 "nbformat_minor": 2
}
