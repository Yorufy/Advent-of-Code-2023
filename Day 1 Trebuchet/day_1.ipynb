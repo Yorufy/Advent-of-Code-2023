{
 "cells": [
  {
   "cell_type": "markdown",
   "metadata": {},
   "source": [
    "# Day 1 Trebuchet"
   ]
  },
  {
   "cell_type": "code",
   "execution_count": 1,
   "metadata": {},
   "outputs": [
    {
     "name": "stdout",
     "output_type": "stream",
     "text": [
      "54990\n"
     ]
    }
   ],
   "source": [
    "# Part 1 using Two Pointer Method\n",
    "\n",
    "file = open('day_1_part_1.txt', 'r')\n",
    "\n",
    "ans = 0\n",
    "lines = file.readlines()\n",
    "\n",
    "for line in lines:\n",
    "\n",
    "    i, j = 0, len(line) - 1\n",
    "\n",
    "    changes = True\n",
    "    while changes and i < j:\n",
    "        \n",
    "        changes = False\n",
    "        if line[i] not in '0123456789':\n",
    "            i += 1\n",
    "            changes = True\n",
    "        if line[j] not in '0123456789':\n",
    "            j -= 1\n",
    "            changes = True\n",
    "\n",
    "    if i == j:\n",
    "        ans += (10*int(line[i]) + int(line[i]))\n",
    "    else:\n",
    "        ans += (10*int(line[i]) + int(line[j]))\n",
    "\n",
    "print(ans)\n",
    "\n",
    "file.close()"
   ]
  },
  {
   "cell_type": "code",
   "execution_count": 2,
   "metadata": {},
   "outputs": [
    {
     "name": "stdout",
     "output_type": "stream",
     "text": [
      "54473\n"
     ]
    }
   ],
   "source": [
    "# Part Two using Brute Force Approach\n",
    "\n",
    "ans = 0\n",
    "char_to_digit = {'one':1, 'two':2, 'three':3, 'four':4, 'five':5, 'six':6, 'seven':7, 'eight':8, 'nine':9}\n",
    "\n",
    "file = open('day_2_part_2.txt', 'r')\n",
    "\n",
    "for line in file.readlines():\n",
    "\n",
    "    l_index, r_index = float('inf'), float('-inf')\n",
    "    left, right = '', ''\n",
    "\n",
    "    for char in char_to_digit:\n",
    "        try:\n",
    "            # l_index = min(l_index, line.index(char))\n",
    "\n",
    "            if l_index > line.index(char):\n",
    "                left = char_to_digit[char]\n",
    "                l_index = line.index(char)\n",
    "        except:\n",
    "            pass\n",
    "        try:\n",
    "            # r_index = max(r_index, line.rindex(char))\n",
    "            if r_index < line.rindex(char):\n",
    "                right = char_to_digit[char]\n",
    "                r_index = line.rindex(char)\n",
    "        except:\n",
    "            pass\n",
    "\n",
    "    for dig in '0123456789':\n",
    "        try:\n",
    "            # l_index = min(l_index, line.index(dig))\n",
    "            if l_index > line.index(dig):\n",
    "                left = int(dig)\n",
    "                l_index = line.index(dig)\n",
    "        except:\n",
    "            pass\n",
    "        try:\n",
    "            # r_index = max(r_index, line.rindex(dig))\n",
    "            if r_index < line.rindex(dig):\n",
    "                right = int(dig)\n",
    "                r_index = line.rindex(dig)\n",
    "        except:\n",
    "            pass\n",
    "\n",
    "    ans += left*10 + right\n",
    "print(ans)"
   ]
  }
 ],
 "metadata": {
  "kernelspec": {
   "display_name": "Python 3",
   "language": "python",
   "name": "python3"
  },
  "language_info": {
   "codemirror_mode": {
    "name": "ipython",
    "version": 3
   },
   "file_extension": ".py",
   "mimetype": "text/x-python",
   "name": "python",
   "nbconvert_exporter": "python",
   "pygments_lexer": "ipython3",
   "version": "3.12.0"
  }
 },
 "nbformat": 4,
 "nbformat_minor": 2
}
