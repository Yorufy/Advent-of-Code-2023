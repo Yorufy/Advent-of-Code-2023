{
 "cells": [
  {
   "cell_type": "markdown",
   "metadata": {},
   "source": [
    "## Day 9 - Mirage Maintenance"
   ]
  },
  {
   "cell_type": "code",
   "execution_count": 13,
   "metadata": {},
   "outputs": [
    {
     "data": {
      "text/plain": [
       "1798691765"
      ]
     },
     "execution_count": 13,
     "metadata": {},
     "output_type": "execute_result"
    }
   ],
   "source": [
    "# Part A\n",
    "\n",
    "file = open('day_9_part_1.txt', 'r')\n",
    "\n",
    "lines = file.readlines()\n",
    "ans = []\n",
    "\n",
    "for line in lines:\n",
    "\n",
    "    line = list(map(int, line.strip().split()))\n",
    "    sequence = [line]\n",
    "\n",
    "    #Generating new lines\n",
    "    while set(sequence[-1]) != {0}:\n",
    "        new_line = []\n",
    "        for i in range(len(sequence[-1])-1):\n",
    "            new_line.append(sequence[-1][i+1] - sequence[-1][i])\n",
    "        sequence.append(new_line)\n",
    "    \n",
    "    #Extrapolating predictive future data\n",
    "    sequence[-1].append(0)\n",
    "    i = len(sequence)-2\n",
    "    while i >= 0:\n",
    "        sequence[i].append(sequence[i][-1] + sequence[i+1][-1])\n",
    "        i -= 1\n",
    "\n",
    "    ans.append(sequence[0][-1])\n",
    "\n",
    "sum(ans) #1798691765"
   ]
  },
  {
   "cell_type": "code",
   "execution_count": 18,
   "metadata": {},
   "outputs": [
    {
     "data": {
      "text/plain": [
       "1104"
      ]
     },
     "execution_count": 18,
     "metadata": {},
     "output_type": "execute_result"
    }
   ],
   "source": [
    "# Part B\n",
    "\n",
    "file = open('day_9_part_1.txt', 'r')\n",
    "\n",
    "lines = file.readlines()\n",
    "ans = []\n",
    "\n",
    "for line in lines:\n",
    "\n",
    "    line = list(map(int, line.strip().split()))\n",
    "    sequence = [line]\n",
    "\n",
    "    #Generating new lines\n",
    "    while set(sequence[-1]) != {0}:\n",
    "        new_line = []\n",
    "        for i in range(len(sequence[-1])-1):\n",
    "            new_line.append(sequence[-1][i+1] - sequence[-1][i])\n",
    "        sequence.append(new_line)\n",
    "        \n",
    "    #Extrapolating the historical data\n",
    "    sequence[-1].insert(0, 0)\n",
    "    i = len(sequence)-2\n",
    "    while i >= 0:\n",
    "        sequence[i].insert(0, sequence[i][0] - sequence[i+1][0])\n",
    "        i -= 1\n",
    "\n",
    "    ans.append(sequence[0][0])\n",
    "\n",
    "sum(ans) #1104"
   ]
  }
 ],
 "metadata": {
  "kernelspec": {
   "display_name": "Python 3",
   "language": "python",
   "name": "python3"
  },
  "language_info": {
   "codemirror_mode": {
    "name": "ipython",
    "version": 3
   },
   "file_extension": ".py",
   "mimetype": "text/x-python",
   "name": "python",
   "nbconvert_exporter": "python",
   "pygments_lexer": "ipython3",
   "version": "3.12.0"
  }
 },
 "nbformat": 4,
 "nbformat_minor": 2
}
